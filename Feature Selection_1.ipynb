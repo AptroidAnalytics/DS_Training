{
 "cells": [
  {
   "cell_type": "code",
   "execution_count": 1,
   "id": "b2f62479",
   "metadata": {},
   "outputs": [],
   "source": [
    "import pandas as pd\n",
    "import numpy as np\n",
    "import os\n",
    "import seaborn as sns\n",
    "import matplotlib.pyplot as plt"
   ]
  },
  {
   "cell_type": "code",
   "execution_count": 3,
   "id": "b5116907",
   "metadata": {},
   "outputs": [],
   "source": [
    "data = pd.read_csv(\"data1.csv\")"
   ]
  },
  {
   "cell_type": "code",
   "execution_count": 4,
   "id": "622b57e4",
   "metadata": {},
   "outputs": [],
   "source": [
    "X = data.drop(columns=['MonthlyCharges','customerID'],axis=1)\n",
    "y = data['MonthlyCharges']"
   ]
  },
  {
   "cell_type": "code",
   "execution_count": 5,
   "id": "1b0ec240",
   "metadata": {},
   "outputs": [
    {
     "name": "stdout",
     "output_type": "stream",
     "text": [
      "<class 'pandas.core.frame.DataFrame'>\n",
      "RangeIndex: 7032 entries, 0 to 7031\n",
      "Data columns (total 28 columns):\n",
      " #   Column                                   Non-Null Count  Dtype  \n",
      "---  ------                                   --------------  -----  \n",
      " 0   customerID                               7032 non-null   object \n",
      " 1   gender                                   7032 non-null   int64  \n",
      " 2   SeniorCitizen                            7032 non-null   int64  \n",
      " 3   Partner                                  7032 non-null   int64  \n",
      " 4   Dependents                               7032 non-null   int64  \n",
      " 5   tenure                                   7032 non-null   float64\n",
      " 6   PhoneService                             7032 non-null   int64  \n",
      " 7   MultipleLines                            7032 non-null   int64  \n",
      " 8   OnlineSecurity                           7032 non-null   int64  \n",
      " 9   OnlineBackup                             7032 non-null   int64  \n",
      " 10  DeviceProtection                         7032 non-null   int64  \n",
      " 11  TechSupport                              7032 non-null   int64  \n",
      " 12  StreamingTV                              7032 non-null   int64  \n",
      " 13  StreamingMovies                          7032 non-null   int64  \n",
      " 14  PaperlessBilling                         7032 non-null   int64  \n",
      " 15  MonthlyCharges                           7032 non-null   float64\n",
      " 16  TotalCharges                             7032 non-null   float64\n",
      " 17  Churn                                    7032 non-null   int64  \n",
      " 18  InternetService_DSL                      7032 non-null   int64  \n",
      " 19  InternetService_Fiber optic              7032 non-null   int64  \n",
      " 20  InternetService_No                       7032 non-null   int64  \n",
      " 21  Contract_Month-to-month                  7032 non-null   int64  \n",
      " 22  Contract_One year                        7032 non-null   int64  \n",
      " 23  Contract_Two year                        7032 non-null   int64  \n",
      " 24  PaymentMethod_Bank transfer (automatic)  7032 non-null   int64  \n",
      " 25  PaymentMethod_Credit card (automatic)    7032 non-null   int64  \n",
      " 26  PaymentMethod_Electronic check           7032 non-null   int64  \n",
      " 27  PaymentMethod_Mailed check               7032 non-null   int64  \n",
      "dtypes: float64(3), int64(24), object(1)\n",
      "memory usage: 1.5+ MB\n"
     ]
    }
   ],
   "source": [
    "data.info()"
   ]
  },
  {
   "cell_type": "code",
   "execution_count": 6,
   "id": "01b1fec8",
   "metadata": {},
   "outputs": [],
   "source": [
    "#############################################################################\n",
    "\n",
    "# Select K-best features#\n",
    "\n",
    "####################################################3\n",
    "\n",
    "import sklearn.feature_selection as fs\n",
    "from sklearn.model_selection import train_test_split\n",
    "from sklearn.linear_model import LinearRegression\n",
    "import sklearn.metrics as metrics\n",
    "\n"
   ]
  },
  {
   "cell_type": "code",
   "execution_count": 8,
   "id": "9b4ac5e9",
   "metadata": {},
   "outputs": [],
   "source": [
    "f1_list = []\n",
    "for k in range(1, 26):\n",
    "    bk = fs.SelectKBest(fs.f_regression, k=k)\n",
    "    bk.fit(X, y)\n",
    "    X_trans = bk.transform(X)\n",
    "    train_x, test_x, train_y, test_y = train_test_split(X_trans,\n",
    "                                                        y,\n",
    "                                                        test_size=0.3,\n",
    "                                                        random_state=42)\n",
    "    lr = LinearRegression()\n",
    "    lr.fit(train_x, train_y)\n",
    "    y_pred = lr.predict(test_x)\n",
    "    f1 = metrics.r2_score(test_y, y_pred)\n",
    "    f1_list.append(f1)\n"
   ]
  },
  {
   "cell_type": "code",
   "execution_count": 9,
   "id": "70c812a2",
   "metadata": {},
   "outputs": [],
   "source": [
    "fig, axe = plt.subplots(dpi = 300)\n",
    "axe.plot(range(1, 26), f1_list)\n",
    "axe.set_xlabel(\"best k features\")\n",
    "axe.set_ylabel(\"F1-score\")\n",
    "fig.savefig(\"img.png\")\n",
    "plt.close(fig)\n"
   ]
  },
  {
   "cell_type": "code",
   "execution_count": 16,
   "id": "c6e44943",
   "metadata": {},
   "outputs": [
    {
     "name": "stdout",
     "output_type": "stream",
     "text": [
      "<bound method SelectorMixin.get_feature_names_out of SelectKBest(k=13)>\n"
     ]
    }
   ],
   "source": [
    "# choose the f_classif as the metric and K is 3\n",
    "bk = fs.SelectKBest(fs.f_classif, k=13)\n",
    "bk.fit(X, y)\n",
    "X_trans = bk.transform(X)\n",
    "\n",
    "print(bk.get_feature_names_out)\n",
    "\n",
    "print(bk.get_params)\n",
    "\n",
    "print (bk.scores_)\n",
    "print (bk.pvalues_)\n"
   ]
  },
  {
   "cell_type": "code",
   "execution_count": 20,
   "id": "a2fabda1",
   "metadata": {},
   "outputs": [
    {
     "name": "stdout",
     "output_type": "stream",
     "text": [
      "('PhoneService', 'MultipleLines', 'OnlineBackup', 'DeviceProtection', 'TechSupport', 'StreamingTV', 'StreamingMovies', 'TotalCharges', 'InternetService_DSL', 'InternetService_Fiber optic')\n"
     ]
    }
   ],
   "source": [
    "#########################################################################\n",
    "#SequentialFeatureSelector - farward\n",
    "#########################################################################\n",
    "\n",
    "# pip install mlxtend\n",
    "\n",
    "#importing the necessary libraries\n",
    "from mlxtend.feature_selection import SequentialFeatureSelector as SFS\n",
    "from sklearn.linear_model import LinearRegression\n",
    "# Sequential Forward Selection(sfs)\n",
    "sfs = SFS(LinearRegression(),\n",
    "          k_features=10,\n",
    "          forward=True,\n",
    "          floating=False,\n",
    "          scoring = 'r2',\n",
    "          cv = 0)\n",
    "\n",
    "sfs.fit(X, y)\n",
    "\n",
    "print(sfs.k_feature_names_)     # to get the final set of features\n",
    "\n"
   ]
  },
  {
   "cell_type": "code",
   "execution_count": 21,
   "id": "aac13307",
   "metadata": {},
   "outputs": [
    {
     "name": "stdout",
     "output_type": "stream",
     "text": [
      "('PhoneService', 'MultipleLines', 'OnlineBackup', 'DeviceProtection', 'TechSupport', 'StreamingTV', 'StreamingMovies', 'TotalCharges', 'InternetService_DSL', 'InternetService_No')\n"
     ]
    }
   ],
   "source": [
    "#########################################################################\n",
    "#SequentialFeatureSelector - farward\n",
    "#########################################################################\n",
    "\n",
    "# pip install mlxtend\n",
    "\n",
    "#importing the necessary libraries\n",
    "from mlxtend.feature_selection import SequentialFeatureSelector as SFS\n",
    "from sklearn.linear_model import LinearRegression\n",
    "# Sequential Forward Selection(sfs)\n",
    "sfs = SFS(LinearRegression(),\n",
    "          k_features=10,\n",
    "          forward=True,\n",
    "          floating=False,\n",
    "          scoring = 'neg_mean_absolute_error',\n",
    "          cv = 0)\n",
    "\n",
    "sfs.fit(X, y)\n",
    "\n",
    "print(sfs.k_feature_names_)     # to get the final set of features\n",
    "\n"
   ]
  },
  {
   "cell_type": "code",
   "execution_count": null,
   "id": "9a1b6b72",
   "metadata": {},
   "outputs": [],
   "source": []
  },
  {
   "cell_type": "code",
   "execution_count": 22,
   "id": "b5fb2e87",
   "metadata": {},
   "outputs": [
    {
     "name": "stdout",
     "output_type": "stream",
     "text": [
      "('PhoneService', 'MultipleLines', 'OnlineSecurity', 'OnlineBackup', 'DeviceProtection', 'TechSupport', 'StreamingTV', 'StreamingMovies', 'InternetService_DSL', 'InternetService_Fiber optic')\n"
     ]
    }
   ],
   "source": [
    "#########################################################################\n",
    "#SequentialFeatureSelector - backward\n",
    "#########################################################################\n",
    "\n",
    "# pip install mlxtend\n",
    "\n",
    "#importing the necessary libraries\n",
    "from mlxtend.feature_selection import SequentialFeatureSelector as SFS\n",
    "from sklearn.linear_model import LinearRegression\n",
    "# Sequential Forward Selection(sfs)\n",
    "sfs = SFS(LinearRegression(),\n",
    "          k_features=10,\n",
    "          forward=False,\n",
    "          floating=False,\n",
    "          scoring = 'neg_mean_absolute_error',\n",
    "          cv = 0)\n",
    "\n",
    "sfs.fit(X, y)\n",
    "\n",
    "print(sfs.k_feature_names_)     # to get the final set of features\n",
    "\n"
   ]
  },
  {
   "cell_type": "code",
   "execution_count": 32,
   "id": "c399fc97",
   "metadata": {},
   "outputs": [
    {
     "name": "stdout",
     "output_type": "stream",
     "text": [
      "[False False False False False  True False False False False False  True\n",
      "  True False False False False  True  True False False False False False\n",
      " False False]\n",
      "[False False False False False  True False False False False False  True\n",
      "  True False False False False  True  True False False False False False\n",
      " False False]\n",
      "[12 16 10 15  8  1  5  2  6  3  4  1  1 13  7 19  9  1  1 22 14 20 17 18\n",
      " 21 11]\n",
      "Selected Features Index(['PhoneService', 'StreamingTV', 'StreamingMovies',\n",
      "       'InternetService_Fiber optic', 'InternetService_No'],\n",
      "      dtype='object')\n"
     ]
    }
   ],
   "source": [
    "############## Variable selection using RFE method\n",
    "## RFE - Recursive Feature Elimination\n",
    "from sklearn.linear_model import LinearRegression\n",
    "from sklearn.feature_selection import SelectKBest, RFE, SelectFromModel\n",
    "from sklearn.feature_selection import chi2, f_classif, mutual_info_classif\n",
    "\n",
    "lr = LinearRegression()\n",
    "rfe = RFE(lr, n_features_to_select=5)\n",
    "\n",
    "rfe = rfe.fit(X, y.values.ravel())\n",
    "\n",
    "rfe_support=rfe.get_support()\n",
    "print(rfe.get_support())\n",
    "print(rfe.support_)\n",
    "print(rfe.ranking_)\n",
    "\n",
    "\n",
    "print(\"Selected Features\",X.columns[rfe.support_])\n",
    "\n"
   ]
  },
  {
   "cell_type": "code",
   "execution_count": null,
   "id": "b34f3c8e",
   "metadata": {},
   "outputs": [],
   "source": []
  }
 ],
 "metadata": {
  "kernelspec": {
   "display_name": "Python 3 (ipykernel)",
   "language": "python",
   "name": "python3"
  },
  "language_info": {
   "codemirror_mode": {
    "name": "ipython",
    "version": 3
   },
   "file_extension": ".py",
   "mimetype": "text/x-python",
   "name": "python",
   "nbconvert_exporter": "python",
   "pygments_lexer": "ipython3",
   "version": "3.9.12"
  }
 },
 "nbformat": 4,
 "nbformat_minor": 5
}
